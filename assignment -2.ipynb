{
 "cells": [
  {
   "cell_type": "markdown",
   "id": "11ca97b0",
   "metadata": {},
   "source": [
    " ### Q1 Write a lambda expression to extract first word of a string."
   ]
  },
  {
   "cell_type": "code",
   "execution_count": null,
   "id": "d764a0ef",
   "metadata": {},
   "outputs": [],
   "source": [
    "\n",
    "str = \"Learning ML and DL\"\n",
    "x = lambda s: s.split()[0]\n",
    "x(str)"
   ]
  },
  {
   "cell_type": "markdown",
   "id": "65d3b2b9",
   "metadata": {},
   "source": [
    "### Q2 Write a function to extract first word of s string (with many words separated by space)."
   ]
  },
  {
   "cell_type": "code",
   "execution_count": 14,
   "id": "763362b0",
   "metadata": {},
   "outputs": [
    {
     "data": {
      "text/plain": [
       "'Function'"
      ]
     },
     "execution_count": 14,
     "metadata": {},
     "output_type": "execute_result"
    }
   ],
   "source": [
    "def splt(s):\n",
    "    return s.split()[0]\n",
    "s = \"Function to extract first word\"\n",
    "splt(s)"
   ]
  },
  {
   "cell_type": "markdown",
   "id": "94633292",
   "metadata": {},
   "source": [
    "### Q3 Extract the first word from every string from a list of strings by using map function."
   ]
  },
  {
   "cell_type": "code",
   "execution_count": 15,
   "id": "299630da",
   "metadata": {},
   "outputs": [
    {
     "data": {
      "text/plain": [
       "['Chris', 'Johnny', 'Hawk', 'Tony']"
      ]
     },
     "execution_count": 15,
     "metadata": {},
     "output_type": "execute_result"
    }
   ],
   "source": [
    "data = [\"Chris Evans\",\"Johnny Bairstrow\",\"Hawk Eye\",\"Tony Stark\"]\n",
    "x = list(map(lambda x: x.split()[0],data))\n",
    "x"
   ]
  },
  {
   "cell_type": "markdown",
   "id": "891d2422",
   "metadata": {},
   "source": [
    "### Q4 Write a function to return a list of prime factors of a given number."
   ]
  },
  {
   "cell_type": "code",
   "execution_count": null,
   "id": "14e042c7",
   "metadata": {},
   "outputs": [],
   "source": [
    "\n",
    "find = int(input(\"Enter a number: \"))\n",
    "lst = []\n",
    "def primefac(x):\n",
    "    while x%2==0:\n",
    "        lst.append(2)\n",
    "        x /= 2\n",
    "    for i in range(3,int(x**0.5)):\n",
    "        while x%i==0:\n",
    "            lst.append(i)\n",
    "            x /= i\n",
    "    if x>2:\n",
    "        lst.append(int(x))\n",
    "primefac(find)\n",
    "lst"
   ]
  },
  {
   "cell_type": "markdown",
   "id": "4ef8d16e",
   "metadata": {},
   "source": [
    "### Q5 Write a function that finds 2nd largest among 4 numbers (Repetitions are allowed, without sorting)."
   ]
  },
  {
   "cell_type": "code",
   "execution_count": 5,
   "id": "dc7f8f29",
   "metadata": {},
   "outputs": [
    {
     "name": "stdout",
     "output_type": "stream",
     "text": [
      "Enter a number: 4\n",
      "Enter a number: 2\n",
      "Enter a number: 3\n",
      "Enter a number: 4\n"
     ]
    },
    {
     "data": {
      "text/plain": [
       "4"
      ]
     },
     "execution_count": 5,
     "metadata": {},
     "output_type": "execute_result"
    }
   ],
   "source": [
    "\n",
    "lst = []\n",
    "for i in range(0,4):\n",
    "    num = int(input(\"Enter a number: \"))\n",
    "    lst.append(num)\n",
    "lst.remove(max(lst))\n",
    "y = max(lst)\n",
    "y"
   ]
  },
  {
   "cell_type": "code",
   "execution_count": null,
   "id": "52e08249",
   "metadata": {},
   "outputs": [],
   "source": []
  }
 ],
 "metadata": {
  "kernelspec": {
   "display_name": "Python 3",
   "language": "python",
   "name": "python3"
  },
  "language_info": {
   "codemirror_mode": {
    "name": "ipython",
    "version": 3
   },
   "file_extension": ".py",
   "mimetype": "text/x-python",
   "name": "python",
   "nbconvert_exporter": "python",
   "pygments_lexer": "ipython3",
   "version": "3.8.8"
  }
 },
 "nbformat": 4,
 "nbformat_minor": 5
}
